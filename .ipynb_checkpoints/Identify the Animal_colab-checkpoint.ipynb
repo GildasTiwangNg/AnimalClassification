{
 "cells": [
  {
   "cell_type": "markdown",
   "metadata": {
    "colab_type": "text",
    "id": "Txu04YOgvh6i"
   },
   "source": [
    "# Prepareing notebook"
   ]
  },
  {
   "cell_type": "markdown",
   "metadata": {
    "colab_type": "text",
    "id": "koOf_fT1Ek8b"
   },
   "source": [
    "## let's"
   ]
  },
  {
   "cell_type": "code",
   "execution_count": 0,
   "metadata": {
    "colab": {},
    "colab_type": "code",
    "id": "surOnTfQdNsI"
   },
   "outputs": [],
   "source": [
    "!kill -9 -1 # reseting my machine"
   ]
  },
  {
   "cell_type": "code",
   "execution_count": 0,
   "metadata": {
    "colab": {
     "base_uri": "https://localhost:8080/",
     "height": 34
    },
    "colab_type": "code",
    "executionInfo": {
     "elapsed": 8127,
     "status": "ok",
     "timestamp": 1529409202256,
     "user": {
      "displayName": "Ahmed Mohamed",
      "photoUrl": "//lh5.googleusercontent.com/-3czhhckiTHc/AAAAAAAAAAI/AAAAAAAAAHs/N2Y9B2a8wE4/s50-c-k-no/photo.jpg",
      "userId": "108555561654119603722"
     },
     "user_tz": -120
    },
    "id": "4HqcZ7zegyWi",
    "outputId": "43ac2da5-1bbc-4ed0-d379-347938912e62"
   },
   "outputs": [
    {
     "data": {
      "text/plain": [
       "'/device:GPU:0'"
      ]
     },
     "execution_count": 1,
     "metadata": {
      "tags": []
     },
     "output_type": "execute_result"
    }
   ],
   "source": [
    "import tensorflow as tf    # test GPU \n",
    "tf.test.gpu_device_name()"
   ]
  },
  {
   "cell_type": "markdown",
   "metadata": {
    "colab_type": "text",
    "id": "U4qraUZlsXyW"
   },
   "source": [
    "## Installing Fast.ai through clouderizer "
   ]
  },
  {
   "cell_type": "code",
   "execution_count": 0,
   "metadata": {
    "colab": {},
    "colab_type": "code",
    "id": "3UpopmdXdPuu"
   },
   "outputs": [],
   "source": [
    "!wget -NS --content-disposition \"https://console.clouderizer.com/givemeinitsh/hR1mde3W\" && bash ./clouderizer_init.sh"
   ]
  },
  {
   "cell_type": "markdown",
   "metadata": {
    "colab_type": "text",
    "id": "ENgzcUSmsuZ4"
   },
   "source": [
    "## instaling libraries for plotting images "
   ]
  },
  {
   "cell_type": "code",
   "execution_count": 0,
   "metadata": {
    "colab": {},
    "colab_type": "code",
    "id": "KNQ3KOaptanG"
   },
   "outputs": [],
   "source": [
    "!pip install Pillow==4.0.0\n",
    "!pip install PIL\n",
    "!pip install image"
   ]
  },
  {
   "cell_type": "markdown",
   "metadata": {
    "colab_type": "text",
    "id": "gTgv7aadt6Qq"
   },
   "source": [
    "#Getting the data "
   ]
  },
  {
   "cell_type": "markdown",
   "metadata": {
    "colab_type": "text",
    "id": "-YVM5oj8uDhu"
   },
   "source": [
    "## Uploading from pc "
   ]
  },
  {
   "cell_type": "code",
   "execution_count": 0,
   "metadata": {
    "colab": {
     "base_uri": "https://localhost:8080/",
     "height": 38,
     "resources": {
      "http://localhost:8080/nbextensions/google.colab/files.js": {
       "data": "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",
       "headers": [
        [
         "content-type",
         "application/javascript"
        ]
       ],
       "ok": true,
       "status": 200,
       "status_text": ""
      }
     }
    },
    "colab_type": "code",
    "executionInfo": {
     "elapsed": 33833,
     "status": "ok",
     "timestamp": 1529415177817,
     "user": {
      "displayName": "Ahmed Mohamed",
      "photoUrl": "//lh5.googleusercontent.com/-3czhhckiTHc/AAAAAAAAAAI/AAAAAAAAAHs/N2Y9B2a8wE4/s50-c-k-no/photo.jpg",
      "userId": "108555561654119603722"
     },
     "user_tz": -120
    },
    "id": "6gosOnu3tXX8",
    "outputId": "f94401bb-41e8-4a60-d86b-aef0570a981d"
   },
   "outputs": [
    {
     "data": {
      "text/html": [
       "\n",
       "     <input type=\"file\" id=\"files-cfc8b783-2c8a-4b42-8c3c-2dddad18e6db\" name=\"files[]\" multiple disabled />\n",
       "     <output id=\"result-cfc8b783-2c8a-4b42-8c3c-2dddad18e6db\">\n",
       "      Upload widget is only available when the cell has been executed in the\n",
       "      current browser session. Please rerun this cell to enable.\n",
       "      </output>\n",
       "      <script src=\"/nbextensions/google.colab/files.js\"></script> "
      ],
      "text/plain": [
       "<IPython.core.display.HTML object>"
      ]
     },
     "metadata": {
      "tags": []
     },
     "output_type": "display_data"
    }
   ],
   "source": [
    "from google.colab import files\n",
    "\n",
    "uploaded = files.upload()\n",
    "\n",
    "for fn in uploaded.keys():\n",
    "  print('User uploaded file \"{name}\" with length {length} bytes'.format(name=fn, length=len(uploaded[fn])))"
   ]
  },
  {
   "cell_type": "markdown",
   "metadata": {
    "colab_type": "text",
    "id": "AGnx1_CHuMJM"
   },
   "source": [
    "## Downloading from internet"
   ]
  },
  {
   "cell_type": "code",
   "execution_count": 0,
   "metadata": {
    "colab": {},
    "colab_type": "code",
    "id": "KU0yBYDPRoHN"
   },
   "outputs": [],
   "source": [
    "!apt-get install p7zip-full"
   ]
  },
  {
   "cell_type": "code",
   "execution_count": 0,
   "metadata": {
    "colab": {},
    "colab_type": "code",
    "id": "80GJzc3xJb1l"
   },
   "outputs": [],
   "source": [
    "!wget https://s3-ap-southeast-1.amazonaws.com/he-public-data/DL%23+Beginner.zip"
   ]
  },
  {
   "cell_type": "code",
   "execution_count": 0,
   "metadata": {
    "colab": {},
    "colab_type": "code",
    "id": "5BFwhL49RDJY"
   },
   "outputs": [],
   "source": [
    "mv 'DL#+Beginner.zip' 'DLBeginner.zip'"
   ]
  },
  {
   "cell_type": "code",
   "execution_count": 0,
   "metadata": {
    "colab": {
     "base_uri": "https://localhost:8080/",
     "height": 34
    },
    "colab_type": "code",
    "executionInfo": {
     "elapsed": 1524,
     "status": "ok",
     "timestamp": 1529481293561,
     "user": {
      "displayName": "Ahmed Mohamed",
      "photoUrl": "//lh5.googleusercontent.com/-3czhhckiTHc/AAAAAAAAAAI/AAAAAAAAAHs/N2Y9B2a8wE4/s50-c-k-no/photo.jpg",
      "userId": "108555561654119603722"
     },
     "user_tz": -120
    },
    "id": "RE8dgFYdRZ9i",
    "outputId": "ef2d7acf-e726-4a09-8f53-d23cd048dd88"
   },
   "outputs": [
    {
     "name": "stdout",
     "output_type": "stream",
     "text": [
      "rm: cannot remove 'DL#+Beginner.zip.1': No such file or directory\r\n"
     ]
    }
   ],
   "source": [
    "rm -r DL#+Beginner.zip.1"
   ]
  },
  {
   "cell_type": "code",
   "execution_count": 0,
   "metadata": {
    "colab": {
     "base_uri": "https://localhost:8080/",
     "height": 102
    },
    "colab_type": "code",
    "executionInfo": {
     "elapsed": 1686,
     "status": "ok",
     "timestamp": 1529481295321,
     "user": {
      "displayName": "Ahmed Mohamed",
      "photoUrl": "//lh5.googleusercontent.com/-3czhhckiTHc/AAAAAAAAAAI/AAAAAAAAAHs/N2Y9B2a8wE4/s50-c-k-no/photo.jpg",
      "userId": "108555561654119603722"
     },
     "user_tz": -120
    },
    "id": "6ypLfSKdRRqM",
    "outputId": "23468ce3-602e-4739-e27e-899e438a9385"
   },
   "outputs": [
    {
     "name": "stdout",
     "output_type": "stream",
     "text": [
      "\u001b[0m\u001b[01;34mclouderizer\u001b[0m/         DLBeginner.zip                  updatestatus.2\r\n",
      "clouderizer_init.sh  install_clouderizer_service.sh  updatestatus.3\r\n",
      "clouderizer.jar      temp.sh                         updatestatus.4\r\n",
      "clouderizer.service  updatestatus                    updatestatus.5\r\n",
      "\u001b[01;34mdatalab\u001b[0m/             updatestatus.1                  updatestatus.6\r\n"
     ]
    }
   ],
   "source": [
    "ls{'/content/'}"
   ]
  },
  {
   "cell_type": "code",
   "execution_count": 0,
   "metadata": {
    "colab": {},
    "colab_type": "code",
    "id": "LFBy5EcyRuTC"
   },
   "outputs": [],
   "source": [
    "!7z x DLBeginner.zip  -o/content/clouderizer/fast.ai/data/"
   ]
  },
  {
   "cell_type": "code",
   "execution_count": 0,
   "metadata": {
    "colab": {
     "base_uri": "https://localhost:8080/",
     "height": 34
    },
    "colab_type": "code",
    "executionInfo": {
     "elapsed": 1623,
     "status": "ok",
     "timestamp": 1529481349372,
     "user": {
      "displayName": "Ahmed Mohamed",
      "photoUrl": "//lh5.googleusercontent.com/-3czhhckiTHc/AAAAAAAAAAI/AAAAAAAAAHs/N2Y9B2a8wE4/s50-c-k-no/photo.jpg",
      "userId": "108555561654119603722"
     },
     "user_tz": -120
    },
    "id": "d9uVtqBH6buN",
    "outputId": "eff7dbf4-2565-4e7b-8474-c4b47f9e03e5"
   },
   "outputs": [
    {
     "name": "stdout",
     "output_type": "stream",
     "text": [
      "meta-data.zip  test.zip  train.zip\r\n"
     ]
    }
   ],
   "source": [
    "ls{'/content/clouderizer/fast.ai/data/\"DL# Beginner\"/'}"
   ]
  },
  {
   "cell_type": "code",
   "execution_count": 0,
   "metadata": {
    "colab": {},
    "colab_type": "code",
    "id": "zj866dOOdkV4"
   },
   "outputs": [],
   "source": [
    "rm -r /content/DLBeginner.zip"
   ]
  },
  {
   "cell_type": "code",
   "execution_count": 0,
   "metadata": {
    "colab": {},
    "colab_type": "code",
    "id": "3yooeypnQkc6"
   },
   "outputs": [],
   "source": [
    "!7z x /content/clouderizer/fast.ai/data/\"DL# Beginner\"/train.zip -o/content/clouderizer/fast.ai/data/"
   ]
  },
  {
   "cell_type": "code",
   "execution_count": 0,
   "metadata": {
    "colab": {},
    "colab_type": "code",
    "id": "haRmD7iVSBIT"
   },
   "outputs": [],
   "source": [
    "!7z x /content/clouderizer/fast.ai/data/\"DL# Beginner\"/test.zip -o/content/clouderizer/fast.ai/data/"
   ]
  },
  {
   "cell_type": "code",
   "execution_count": 0,
   "metadata": {
    "colab": {},
    "colab_type": "code",
    "id": "YixWMyYeSGAK"
   },
   "outputs": [],
   "source": [
    "!7z x /content/clouderizer/fast.ai/data/\"DL# Beginner\"/meta-data.zip -o/content/clouderizer/fast.ai/data/"
   ]
  },
  {
   "cell_type": "code",
   "execution_count": 0,
   "metadata": {
    "colab": {
     "base_uri": "https://localhost:8080/",
     "height": 34
    },
    "colab_type": "code",
    "executionInfo": {
     "elapsed": 1589,
     "status": "ok",
     "timestamp": 1529481455989,
     "user": {
      "displayName": "Ahmed Mohamed",
      "photoUrl": "//lh5.googleusercontent.com/-3czhhckiTHc/AAAAAAAAAAI/AAAAAAAAAHs/N2Y9B2a8wE4/s50-c-k-no/photo.jpg",
      "userId": "108555561654119603722"
     },
     "user_tz": -120
    },
    "id": "PwJI_pelR6YO",
    "outputId": "4fd4ea70-1e59-421d-bf0c-3d1c77ee86a0"
   },
   "outputs": [
    {
     "name": "stdout",
     "output_type": "stream",
     "text": [
      "\u001b[0m\u001b[01;34mDL# Beginner\u001b[0m/  \u001b[01;34mmeta-data\u001b[0m/  \u001b[01;34mtest\u001b[0m/  \u001b[01;34mtrain\u001b[0m/\r\n"
     ]
    }
   ],
   "source": [
    "ls{'/content/clouderizer/fast.ai/data/'}"
   ]
  },
  {
   "cell_type": "code",
   "execution_count": 0,
   "metadata": {
    "colab": {},
    "colab_type": "code",
    "id": "ELqVh-YYSmn2"
   },
   "outputs": [],
   "source": [
    "!cp /content/clouderizer/fast.ai/data/meta-data/sample_submission.csv /content/clouderizer/fast.ai/data/\n",
    "!cp /content/clouderizer/fast.ai/data/meta-data/test.csv /content/clouderizer/fast.ai/data/\n",
    "!cp /content/clouderizer/fast.ai/data/meta-data/train.csv /content/clouderizer/fast.ai/data/\n"
   ]
  },
  {
   "cell_type": "code",
   "execution_count": 0,
   "metadata": {
    "colab": {},
    "colab_type": "code",
    "id": "mrOxO-huTC6_"
   },
   "outputs": [],
   "source": [
    "!rm -r /content/clouderizer/fast.ai/data/\"DL# Beginner\"/\n",
    "!rm -r /content/clouderizer/fast.ai/data/meta-data/"
   ]
  },
  {
   "cell_type": "code",
   "execution_count": 0,
   "metadata": {
    "colab": {
     "base_uri": "https://localhost:8080/",
     "height": 34
    },
    "colab_type": "code",
    "executionInfo": {
     "elapsed": 2096,
     "status": "ok",
     "timestamp": 1529481465495,
     "user": {
      "displayName": "Ahmed Mohamed",
      "photoUrl": "//lh5.googleusercontent.com/-3czhhckiTHc/AAAAAAAAAAI/AAAAAAAAAHs/N2Y9B2a8wE4/s50-c-k-no/photo.jpg",
      "userId": "108555561654119603722"
     },
     "user_tz": -120
    },
    "id": "29u7EGRbTHje",
    "outputId": "789e7a83-27a7-4608-fe03-8636485f6e0f"
   },
   "outputs": [
    {
     "name": "stdout",
     "output_type": "stream",
     "text": [
      "sample_submission.csv  \u001b[0m\u001b[01;34mtest\u001b[0m/  test.csv  \u001b[01;34mtrain\u001b[0m/  train.csv\r\n"
     ]
    }
   ],
   "source": [
    "ls{'/content/clouderizer/fast.ai/data/'}"
   ]
  },
  {
   "cell_type": "code",
   "execution_count": 0,
   "metadata": {
    "colab": {
     "base_uri": "https://localhost:8080/",
     "height": 51
    },
    "colab_type": "code",
    "executionInfo": {
     "elapsed": 5527,
     "status": "ok",
     "timestamp": 1529481471155,
     "user": {
      "displayName": "Ahmed Mohamed",
      "photoUrl": "//lh5.googleusercontent.com/-3czhhckiTHc/AAAAAAAAAAI/AAAAAAAAAHs/N2Y9B2a8wE4/s50-c-k-no/photo.jpg",
      "userId": "108555561654119603722"
     },
     "user_tz": -120
    },
    "id": "Xpo8v15vfv3p",
    "outputId": "85cda69b-84ce-445d-ce54-aca1b7240666"
   },
   "outputs": [
    {
     "name": "stdout",
     "output_type": "stream",
     "text": [
      "rm: cannot remove '/content/clouderizer/fast.ai/data/dogscats.zip': No such file or directory\n",
      "rm: cannot remove '/content/clouderizer/fast.ai/data/dogscats': No such file or directory\n"
     ]
    }
   ],
   "source": [
    "!rm -r /content/clouderizer/fast.ai/data/dogscats.zip\n",
    "!rm -r /content/clouderizer/fast.ai/data/dogscats"
   ]
  },
  {
   "cell_type": "code",
   "execution_count": 0,
   "metadata": {
    "colab": {
     "base_uri": "https://localhost:8080/",
     "height": 34
    },
    "colab_type": "code",
    "executionInfo": {
     "elapsed": 1717,
     "status": "ok",
     "timestamp": 1529481472936,
     "user": {
      "displayName": "Ahmed Mohamed",
      "photoUrl": "//lh5.googleusercontent.com/-3czhhckiTHc/AAAAAAAAAAI/AAAAAAAAAHs/N2Y9B2a8wE4/s50-c-k-no/photo.jpg",
      "userId": "108555561654119603722"
     },
     "user_tz": -120
    },
    "id": "DG9F6-1IJP8u",
    "outputId": "687c4824-6c4a-49d5-c9b9-94cdce06672c"
   },
   "outputs": [
    {
     "name": "stdout",
     "output_type": "stream",
     "text": [
      "sample_submission.csv  \u001b[0m\u001b[01;34mtest\u001b[0m/  test.csv  \u001b[01;34mtrain\u001b[0m/  train.csv\r\n"
     ]
    }
   ],
   "source": [
    "ls{'/content/clouderizer/fast.ai/data/'}"
   ]
  },
  {
   "cell_type": "markdown",
   "metadata": {
    "colab_type": "text",
    "id": "ZxUvWWxzx1dm"
   },
   "source": [
    "# Problems & Fix"
   ]
  },
  {
   "cell_type": "markdown",
   "metadata": {
    "colab_type": "text",
    "id": "vSZ858IC0h6e"
   },
   "source": [
    "## Weights\n",
    "\n",
    "*   Cannot find  resnext_101_64x4d.pth\n",
    "\n",
    "\n"
   ]
  },
  {
   "cell_type": "code",
   "execution_count": 0,
   "metadata": {
    "colab": {
     "base_uri": "https://localhost:8080/",
     "height": 34
    },
    "colab_type": "code",
    "executionInfo": {
     "elapsed": 2546,
     "status": "ok",
     "timestamp": 1529409865275,
     "user": {
      "displayName": "Ahmed Mohamed",
      "photoUrl": "//lh5.googleusercontent.com/-3czhhckiTHc/AAAAAAAAAAI/AAAAAAAAAHs/N2Y9B2a8wE4/s50-c-k-no/photo.jpg",
      "userId": "108555561654119603722"
     },
     "user_tz": -120
    },
    "id": "d2q0YKI404rc",
    "outputId": "5a94888e-4203-430d-d856-e3dacb606890"
   },
   "outputs": [
    {
     "name": "stdout",
     "output_type": "stream",
     "text": [
      "resnext_101_64x4d.pth\r\n"
     ]
    }
   ],
   "source": [
    "!ls {\"/usr/local/lib/python3.6/dist-packages/fastai/weights/\"}"
   ]
  },
  {
   "cell_type": "code",
   "execution_count": 0,
   "metadata": {
    "colab": {
     "base_uri": "https://localhost:8080/",
     "height": 68
    },
    "colab_type": "code",
    "executionInfo": {
     "elapsed": 1761,
     "status": "ok",
     "timestamp": 1529244335320,
     "user": {
      "displayName": "Ahmed Mohamed",
      "photoUrl": "//lh4.googleusercontent.com/-saP9k9xgYEs/AAAAAAAAAAI/AAAAAAAAACI/MLe6QIUA344/s50-c-k-no/photo.jpg",
      "userId": "100438054878480961323"
     },
     "user_tz": -120
    },
    "id": "idq2Q9LC38OQ",
    "outputId": "3f292cfe-8eff-4e71-edd1-13a000cde497"
   },
   "outputs": [
    {
     "name": "stdout",
     "output_type": "stream",
     "text": [
      "inceptionresnetv2-d579a627.pth\tresnext_101_64x4d-Copy1.py  wrn_50_2f.pth\r\n",
      "inceptionv4-97ef9c30.pth\tresnext_101_64x4d.pth\r\n",
      "resnext_101_32x4d.pth\t\tresnext_50_32x4d.pth\r\n"
     ]
    }
   ],
   "source": [
    "!ls {\"/content/clouderizer/fast.ai/fastai/courses/dl1/fastai/weights\"}"
   ]
  },
  {
   "cell_type": "code",
   "execution_count": 0,
   "metadata": {
    "colab": {
     "base_uri": "https://localhost:8080/",
     "height": 34
    },
    "colab_type": "code",
    "executionInfo": {
     "elapsed": 2821,
     "status": "ok",
     "timestamp": 1529481475836,
     "user": {
      "displayName": "Ahmed Mohamed",
      "photoUrl": "//lh5.googleusercontent.com/-3czhhckiTHc/AAAAAAAAAAI/AAAAAAAAAHs/N2Y9B2a8wE4/s50-c-k-no/photo.jpg",
      "userId": "108555561654119603722"
     },
     "user_tz": -120
    },
    "id": "9LoaTXTs1F3M",
    "outputId": "bebaf175-04e7-4861-9f9e-6ea935d52e40"
   },
   "outputs": [
    {
     "name": "stdout",
     "output_type": "stream",
     "text": [
      "cp: cannot stat '/content/clouderizer/fast.ai/fastai/courses/dl1/fastai/weights/resnext_101_64x4d.pth': No such file or directory\r\n"
     ]
    }
   ],
   "source": [
    "!mkdir -p /usr/local/lib/python3.6/dist-packages/fastai/weights/\n",
    "#!( cd /content/clouderizer/fast.ai/fastai/courses/dl1/fastai/weights && tar cf - . ) | (cd /usr/local/lib/python3.6/dist-packages/fastai/weights/ && tar xvpf - )\n",
    "! cp /content/clouderizer/fast.ai/fastai/courses/dl1/fastai/weights/resnext_101_64x4d.pth  /usr/local/lib/python3.6/dist-packages/fastai/weights"
   ]
  },
  {
   "cell_type": "code",
   "execution_count": 0,
   "metadata": {
    "colab": {},
    "colab_type": "code",
    "id": "V4C3q-KbqJuU"
   },
   "outputs": [],
   "source": [
    "#!mkdir -p /content/clouderizer/fast.ai/fastai/courses/dl1/fastai/weights/"
   ]
  },
  {
   "cell_type": "code",
   "execution_count": 0,
   "metadata": {
    "colab": {
     "base_uri": "https://localhost:8080/",
     "height": 765
    },
    "colab_type": "code",
    "executionInfo": {
     "elapsed": 47103,
     "status": "ok",
     "timestamp": 1529483359115,
     "user": {
      "displayName": "Ahmed Mohamed",
      "photoUrl": "//lh5.googleusercontent.com/-3czhhckiTHc/AAAAAAAAAAI/AAAAAAAAAHs/N2Y9B2a8wE4/s50-c-k-no/photo.jpg",
      "userId": "108555561654119603722"
     },
     "user_tz": -120
    },
    "id": "5_EDbUxV4cuW",
    "outputId": "79623206-96ce-4420-88c0-b92670d5dbeb"
   },
   "outputs": [
    {
     "name": "stdout",
     "output_type": "stream",
     "text": [
      "DEBUG output created by Wget 1.19.1 on linux-gnu.\n",
      "\n",
      "Reading HSTS entries from /content/.wget-hsts\n",
      "URI encoding = ‘UTF-8’\n",
      "Converted file name 'weights.tgz' (UTF-8) -> 'weights.tgz' (UTF-8)\n",
      "--2018-06-20 08:28:32--  http://files.fast.ai/models/weights.tgz\n",
      "Resolving files.fast.ai (files.fast.ai)... 67.205.15.147\n",
      "Caching files.fast.ai => 67.205.15.147\n",
      "Connecting to files.fast.ai (files.fast.ai)|67.205.15.147|:80... connected.\n",
      "Created socket 3.\n",
      "Releasing 0x0000558626764380 (new refcount 1).\n",
      "\n",
      "---request begin---\n",
      "GET /models/weights.tgz HTTP/1.1\n",
      "User-Agent: Wget/1.19.1 (linux-gnu)\n",
      "Accept: */*\n",
      "Accept-Encoding: identity\n",
      "Host: files.fast.ai\n",
      "Connection: Keep-Alive\n",
      "\n",
      "---request end---\n",
      "HTTP request sent, awaiting response... \n",
      "---response begin---\n",
      "HTTP/1.1 200 OK\n",
      "Date: Wed, 20 Jun 2018 08:28:32 GMT\n",
      "Server: Apache\n",
      "Last-Modified: Sat, 04 Nov 2017 13:04:50 GMT\n",
      "ETag: \"47408776-55d27ddd9cac6\"\n",
      "Accept-Ranges: bytes\n",
      "Content-Length: 1195411318\n",
      "Keep-Alive: timeout=2, max=100\n",
      "Connection: Keep-Alive\n",
      "Content-Type: text/plain\n",
      "\n",
      "---response end---\n",
      "200 OK\n",
      "Registered socket 3 for persistent reuse.\n",
      "Length: 1195411318 (1.1G) [text/plain]\n",
      "Saving to: ‘weights.tgz’\n",
      "\n",
      "weights.tgz          59%[==========>         ] 672.67M  43.0MB/s    eta 12s    weights.tgz         100%[===================>]   1.11G  43.0MB/s    in 27s     \n",
      "\n",
      "2018-06-20 08:28:59 (42.3 MB/s) - ‘weights.tgz’ saved [1195411318/1195411318]\n",
      "\n"
     ]
    }
   ],
   "source": [
    "!wget http://files.fast.ai/models/weights.tgz -d\n",
    "!tar -xf /content/weights.tgz "
   ]
  },
  {
   "cell_type": "code",
   "execution_count": 0,
   "metadata": {
    "colab": {},
    "colab_type": "code",
    "id": "3vMFY0mBsgw4"
   },
   "outputs": [],
   "source": [
    "mv /content/weights/resnext_101_64x4d.pth  /usr/local/lib/python3.6/dist-packages/fastai/weights/"
   ]
  },
  {
   "cell_type": "code",
   "execution_count": 0,
   "metadata": {
    "colab": {
     "base_uri": "https://localhost:8080/",
     "height": 34
    },
    "colab_type": "code",
    "executionInfo": {
     "elapsed": 1902,
     "status": "ok",
     "timestamp": 1529483365571,
     "user": {
      "displayName": "Ahmed Mohamed",
      "photoUrl": "//lh5.googleusercontent.com/-3czhhckiTHc/AAAAAAAAAAI/AAAAAAAAAHs/N2Y9B2a8wE4/s50-c-k-no/photo.jpg",
      "userId": "108555561654119603722"
     },
     "user_tz": -120
    },
    "id": "hdlzGUTqsngE",
    "outputId": "e8f984d4-f63e-4a5e-aa78-8f8262c5cee6"
   },
   "outputs": [
    {
     "name": "stdout",
     "output_type": "stream",
     "text": [
      "resnext_101_64x4d.pth\r\n"
     ]
    }
   ],
   "source": [
    "!ls {\"/usr/local/lib/python3.6/dist-packages/fastai/weights/\"}"
   ]
  },
  {
   "cell_type": "markdown",
   "metadata": {
    "colab_type": "text",
    "id": "1R8tl600x-e8"
   },
   "source": [
    "## TTA\n",
    "\n",
    "*   AttributeError: ‘bool’ object has no attribute ‘mean’\" error in lesson1 Dogbreed example"
   ]
  },
  {
   "cell_type": "code",
   "execution_count": 0,
   "metadata": {
    "colab": {
     "base_uri": "https://localhost:8080/",
     "height": 394
    },
    "colab_type": "code",
    "executionInfo": {
     "elapsed": 8092,
     "status": "ok",
     "timestamp": 1528473889272,
     "user": {
      "displayName": "Ahmed Mohamed",
      "photoUrl": "//lh4.googleusercontent.com/-saP9k9xgYEs/AAAAAAAAAAI/AAAAAAAAACI/MLe6QIUA344/s50-c-k-no/photo.jpg",
      "userId": "100438054878480961323"
     },
     "user_tz": -120
    },
    "id": "Jx6iJbAPx0mw",
    "outputId": "58a5287c-b4e4-4d6c-c9cc-5fc8c606d9ef"
   },
   "outputs": [
    {
     "name": "stdout",
     "output_type": "stream",
     "text": [
      "--2018-06-08 16:05:06--  https://github.com/fastai/fastai/blob/f94fe9b08da60cf76b805ce9926a87b91b5eae24/fastai/metrics.py\n",
      "Resolving github.com (github.com)... 192.30.253.112, 192.30.253.113\n",
      "Connecting to github.com (github.com)|192.30.253.112|:443... connected.\n",
      "HTTP request sent, awaiting response... 200 OK\n",
      "Length: unspecified [text/html]\n",
      "Saving to: ‘metrics.py’\n",
      "\n",
      "metrics.py              [ <=>                ]  51.18K   314KB/s    in 0.2s    \n",
      "\n",
      "2018-06-08 16:05:07 (314 KB/s) - ‘metrics.py’ saved [52409]\n",
      "\n",
      "adaptive_softmax.py  initializers.py\t  metrics.py\tsgdr.py\n",
      "column_data.py\t     __init__.py\t  model.py\tstructured.py\n",
      "conv_learner.py      io.py\t\t  models\tswa.py\n",
      "core.py\t\t     layer_optimizer.py   nlp.py\ttext.py\n",
      "dataloader.py\t     layers.py\t\t  plots.py\ttorch_imports.py\n",
      "dataset.py\t     learner.py\t\t  __pycache__\ttransforms_pil.py\n",
      "executors.py\t     lm_rnn.py\t\t  rnn_reg.py\ttransforms.py\n",
      "fp16.py\t\t     losses.py\t\t  rnn_train.py\tutils.py\n",
      "imports.py\t     lsuv_initializer.py  set_spawn.py\tweights\n"
     ]
    }
   ],
   "source": [
    "!rm -r /usr/local/lib/python3.6/dist-packages/fastai/metrics.py\n",
    "#!ls {\"/usr/local/lib/python3.6/dist-packages/fastai/\"}\n",
    "!wget https://github.com/fastai/fastai/blob/f94fe9b08da60cf76b805ce9926a87b91b5eae24/fastai/metrics.py\n",
    "#!ls {\"/content/\"}\n",
    "!mv /content/metrics.py  /usr/local/lib/python3.6/dist-packages/fastai/\n",
    "!ls {\"/usr/local/lib/python3.6/dist-packages/fastai/\"}"
   ]
  },
  {
   "cell_type": "markdown",
   "metadata": {
    "colab_type": "text",
    "id": "5OrQwfgfxbYw"
   },
   "source": [
    "# CODE"
   ]
  },
  {
   "cell_type": "markdown",
   "metadata": {
    "colab_type": "text",
    "id": "bAxPFHOGU9ZG"
   },
   "source": [
    "##Pre Training"
   ]
  },
  {
   "cell_type": "code",
   "execution_count": 0,
   "metadata": {
    "colab": {},
    "colab_type": "code",
    "id": "5QmH83QDc_e8"
   },
   "outputs": [],
   "source": [
    "# Put these at the top of every notebook, to get automatic reloading and inline plotting\n",
    "%reload_ext autoreload\n",
    "%autoreload 2\n",
    "%matplotlib inline"
   ]
  },
  {
   "cell_type": "code",
   "execution_count": 0,
   "metadata": {
    "colab": {},
    "colab_type": "code",
    "id": "pvcjwrBqc_fG"
   },
   "outputs": [],
   "source": [
    "\n",
    "from fastai.imports import *\n",
    "from fastai.transforms import *\n",
    "from fastai.conv_learner import *\n",
    "from fastai.model import *\n",
    "from fastai.dataset import *\n",
    "from fastai.sgdr import *\n",
    "from fastai.plots import *"
   ]
  },
  {
   "cell_type": "code",
   "execution_count": 0,
   "metadata": {
    "colab": {
     "base_uri": "https://localhost:8080/",
     "height": 34
    },
    "colab_type": "code",
    "executionInfo": {
     "elapsed": 668,
     "status": "ok",
     "timestamp": 1529496420882,
     "user": {
      "displayName": "Ahmed Mohamed",
      "photoUrl": "//lh5.googleusercontent.com/-3czhhckiTHc/AAAAAAAAAAI/AAAAAAAAAHs/N2Y9B2a8wE4/s50-c-k-no/photo.jpg",
      "userId": "108555561654119603722"
     },
     "user_tz": -120
    },
    "id": "4Y89GZRhc_fQ",
    "outputId": "3fbd37bf-17c9-4236-83c3-04e6a21c8a11"
   },
   "outputs": [
    {
     "data": {
      "text/plain": [
       "True"
      ]
     },
     "execution_count": 3,
     "metadata": {
      "tags": []
     },
     "output_type": "execute_result"
    }
   ],
   "source": [
    "torch.cuda.is_available()"
   ]
  },
  {
   "cell_type": "code",
   "execution_count": 0,
   "metadata": {
    "colab": {
     "base_uri": "https://localhost:8080/",
     "height": 34
    },
    "colab_type": "code",
    "executionInfo": {
     "elapsed": 596,
     "status": "ok",
     "timestamp": 1529496421600,
     "user": {
      "displayName": "Ahmed Mohamed",
      "photoUrl": "//lh5.googleusercontent.com/-3czhhckiTHc/AAAAAAAAAAI/AAAAAAAAAHs/N2Y9B2a8wE4/s50-c-k-no/photo.jpg",
      "userId": "108555561654119603722"
     },
     "user_tz": -120
    },
    "id": "qm0BvUEHc_fk",
    "outputId": "fe9c53ce-5408-4091-a689-5ada3cb530aa"
   },
   "outputs": [
    {
     "data": {
      "text/plain": [
       "True"
      ]
     },
     "execution_count": 4,
     "metadata": {
      "tags": []
     },
     "output_type": "execute_result"
    }
   ],
   "source": [
    "torch.backends.cudnn.enabled"
   ]
  },
  {
   "cell_type": "code",
   "execution_count": 0,
   "metadata": {
    "colab": {},
    "colab_type": "code",
    "id": "BfHQYdSbISkA"
   },
   "outputs": [],
   "source": [
    "PATH = \"/content/clouderizer/fast.ai/data/\"\n",
    "arch = resnext101_64"
   ]
  },
  {
   "cell_type": "code",
   "execution_count": 0,
   "metadata": {
    "colab": {},
    "colab_type": "code",
    "id": "E6I24tKWc_f-"
   },
   "outputs": [],
   "source": [
    "sz=224"
   ]
  },
  {
   "cell_type": "code",
   "execution_count": 0,
   "metadata": {
    "colab": {},
    "colab_type": "code",
    "id": "UjKp0FlOV1xE"
   },
   "outputs": [],
   "source": [
    "bs=16 #batch size"
   ]
  },
  {
   "cell_type": "code",
   "execution_count": 0,
   "metadata": {
    "colab": {
     "base_uri": "https://localhost:8080/",
     "height": 34
    },
    "colab_type": "code",
    "executionInfo": {
     "elapsed": 1996,
     "status": "ok",
     "timestamp": 1529523627621,
     "user": {
      "displayName": "Ahmed Mohamed",
      "photoUrl": "//lh5.googleusercontent.com/-3czhhckiTHc/AAAAAAAAAAI/AAAAAAAAAHs/N2Y9B2a8wE4/s50-c-k-no/photo.jpg",
      "userId": "108555561654119603722"
     },
     "user_tz": -120
    },
    "id": "bRw-LFyPmENU",
    "outputId": "2b1e6c7c-9a0b-4d0a-87fa-1cc267fd4720"
   },
   "outputs": [
    {
     "name": "stdout",
     "output_type": "stream",
     "text": [
      "sample_submission.csv  test  test.csv  tmp  train  train.csv\r\n"
     ]
    }
   ],
   "source": [
    "!ls {\"/content/clouderizer/fast.ai/data/\"}"
   ]
  },
  {
   "cell_type": "code",
   "execution_count": 0,
   "metadata": {
    "colab": {},
    "colab_type": "code",
    "id": "MpdcaVI5j6YF"
   },
   "outputs": [],
   "source": [
    "#!rm -r /content/clouderizer/fast.ai/data/tmp"
   ]
  },
  {
   "cell_type": "markdown",
   "metadata": {
    "colab_type": "text",
    "id": "-lj7h5HfyU_-"
   },
   "source": [
    "###Making validation set"
   ]
  },
  {
   "cell_type": "code",
   "execution_count": 0,
   "metadata": {
    "colab": {},
    "colab_type": "code",
    "id": "2s5KgC_Dc_gE"
   },
   "outputs": [],
   "source": [
    "label_csv = f'{PATH}train.csv'\n",
    "n = len(list(open(label_csv)))-1 #number of trainig examples = # labels"
   ]
  },
  {
   "cell_type": "code",
   "execution_count": 0,
   "metadata": {
    "colab": {},
    "colab_type": "code",
    "id": "HJfCUDInXSSb"
   },
   "outputs": [],
   "source": [
    "val_idxs = get_cv_idxs(n)        "
   ]
  },
  {
   "cell_type": "code",
   "execution_count": 0,
   "metadata": {
    "colab": {
     "base_uri": "https://localhost:8080/",
     "height": 34
    },
    "colab_type": "code",
    "executionInfo": {
     "elapsed": 610,
     "status": "ok",
     "timestamp": 1529496430132,
     "user": {
      "displayName": "Ahmed Mohamed",
      "photoUrl": "//lh5.googleusercontent.com/-3czhhckiTHc/AAAAAAAAAAI/AAAAAAAAAHs/N2Y9B2a8wE4/s50-c-k-no/photo.jpg",
      "userId": "108555561654119603722"
     },
     "user_tz": -120
    },
    "id": "4YhtHbCdc_gQ",
    "outputId": "29a875a1-ca6d-4ce5-a617-c4a1290194fe"
   },
   "outputs": [
    {
     "data": {
      "text/plain": [
       "13000"
      ]
     },
     "execution_count": 11,
     "metadata": {
      "tags": []
     },
     "output_type": "execute_result"
    }
   ],
   "source": [
    "n"
   ]
  },
  {
   "cell_type": "code",
   "execution_count": 0,
   "metadata": {
    "colab": {
     "base_uri": "https://localhost:8080/",
     "height": 34
    },
    "colab_type": "code",
    "executionInfo": {
     "elapsed": 697,
     "status": "ok",
     "timestamp": 1529496430930,
     "user": {
      "displayName": "Ahmed Mohamed",
      "photoUrl": "//lh5.googleusercontent.com/-3czhhckiTHc/AAAAAAAAAAI/AAAAAAAAAHs/N2Y9B2a8wE4/s50-c-k-no/photo.jpg",
      "userId": "108555561654119603722"
     },
     "user_tz": -120
    },
    "id": "EaHTA9AHc_gw",
    "outputId": "6ce2d634-36f8-4533-b8f8-d049e18cfd2c"
   },
   "outputs": [
    {
     "data": {
      "text/plain": [
       "2600"
      ]
     },
     "execution_count": 12,
     "metadata": {
      "tags": []
     },
     "output_type": "execute_result"
    }
   ],
   "source": [
    "len(val_idxs)"
   ]
  },
  {
   "cell_type": "code",
   "execution_count": 0,
   "metadata": {
    "colab": {
     "base_uri": "https://localhost:8080/",
     "height": 34
    },
    "colab_type": "code",
    "executionInfo": {
     "elapsed": 576,
     "status": "ok",
     "timestamp": 1529494390094,
     "user": {
      "displayName": "Ahmed Mohamed",
      "photoUrl": "//lh5.googleusercontent.com/-3czhhckiTHc/AAAAAAAAAAI/AAAAAAAAAHs/N2Y9B2a8wE4/s50-c-k-no/photo.jpg",
      "userId": "108555561654119603722"
     },
     "user_tz": -120
    },
    "id": "y1aEH43wc_hO",
    "outputId": "179c7227-fa43-4e27-b2ed-eba2eaf32718"
   },
   "outputs": [
    {
     "data": {
      "text/plain": [
       "array([3615, 2536, 5397, ..., 7277, 3752, 6292])"
      ]
     },
     "execution_count": 13,
     "metadata": {
      "tags": []
     },
     "output_type": "execute_result"
    }
   ],
   "source": [
    "val_idxs"
   ]
  },
  {
   "cell_type": "markdown",
   "metadata": {
    "colab_type": "text",
    "id": "20-bDejgz7YM"
   },
   "source": [
    "## Looking to the data "
   ]
  },
  {
   "cell_type": "code",
   "execution_count": 0,
   "metadata": {
    "colab": {
     "base_uri": "https://localhost:8080/",
     "height": 204
    },
    "colab_type": "code",
    "executionInfo": {
     "elapsed": 602,
     "status": "ok",
     "timestamp": 1529317780451,
     "user": {
      "displayName": "Ahmed Mohamed",
      "photoUrl": "//lh4.googleusercontent.com/-saP9k9xgYEs/AAAAAAAAAAI/AAAAAAAAACI/MLe6QIUA344/s50-c-k-no/photo.jpg",
      "userId": "100438054878480961323"
     },
     "user_tz": -120
    },
    "id": "FCr9tD7Dc_hc",
    "outputId": "d7e42783-8715-4b81-94ad-7c8a536a7440"
   },
   "outputs": [
    {
     "data": {
      "text/html": [
       "<div>\n",
       "<style scoped>\n",
       "    .dataframe tbody tr th:only-of-type {\n",
       "        vertical-align: middle;\n",
       "    }\n",
       "\n",
       "    .dataframe tbody tr th {\n",
       "        vertical-align: top;\n",
       "    }\n",
       "\n",
       "    .dataframe thead th {\n",
       "        text-align: right;\n",
       "    }\n",
       "</style>\n",
       "<table border=\"1\" class=\"dataframe\">\n",
       "  <thead>\n",
       "    <tr style=\"text-align: right;\">\n",
       "      <th></th>\n",
       "      <th>Image_id</th>\n",
       "      <th>Animal</th>\n",
       "    </tr>\n",
       "  </thead>\n",
       "  <tbody>\n",
       "    <tr>\n",
       "      <th>0</th>\n",
       "      <td>Img-1.jpg</td>\n",
       "      <td>hippopotamus</td>\n",
       "    </tr>\n",
       "    <tr>\n",
       "      <th>1</th>\n",
       "      <td>Img-2.jpg</td>\n",
       "      <td>squirrel</td>\n",
       "    </tr>\n",
       "    <tr>\n",
       "      <th>2</th>\n",
       "      <td>Img-3.jpg</td>\n",
       "      <td>grizzly+bear</td>\n",
       "    </tr>\n",
       "    <tr>\n",
       "      <th>3</th>\n",
       "      <td>Img-4.jpg</td>\n",
       "      <td>ox</td>\n",
       "    </tr>\n",
       "    <tr>\n",
       "      <th>4</th>\n",
       "      <td>Img-5.jpg</td>\n",
       "      <td>german+shepherd</td>\n",
       "    </tr>\n",
       "  </tbody>\n",
       "</table>\n",
       "</div>"
      ],
      "text/plain": [
       "    Image_id           Animal\n",
       "0  Img-1.jpg     hippopotamus\n",
       "1  Img-2.jpg         squirrel\n",
       "2  Img-3.jpg     grizzly+bear\n",
       "3  Img-4.jpg               ox\n",
       "4  Img-5.jpg  german+shepherd"
      ]
     },
     "execution_count": 87,
     "metadata": {
      "tags": []
     },
     "output_type": "execute_result"
    }
   ],
   "source": [
    "label_df = pd.read_csv(label_csv)\n",
    "label_df.head()"
   ]
  },
  {
   "cell_type": "code",
   "execution_count": 0,
   "metadata": {
    "colab": {
     "base_uri": "https://localhost:8080/",
     "height": 1010
    },
    "colab_type": "code",
    "executionInfo": {
     "elapsed": 2138,
     "status": "ok",
     "timestamp": 1529318924462,
     "user": {
      "displayName": "Ahmed Mohamed",
      "photoUrl": "//lh4.googleusercontent.com/-saP9k9xgYEs/AAAAAAAAAAI/AAAAAAAAACI/MLe6QIUA344/s50-c-k-no/photo.jpg",
      "userId": "100438054878480961323"
     },
     "user_tz": -120
    },
    "id": "BLLJMR3Kc_hy",
    "outputId": "204ca88b-cd8b-4b2e-8c33-bc2ce7359b66"
   },
   "outputs": [
    {
     "data": {
      "text/html": [
       "<div>\n",
       "<style scoped>\n",
       "    .dataframe tbody tr th:only-of-type {\n",
       "        vertical-align: middle;\n",
       "    }\n",
       "\n",
       "    .dataframe tbody tr th {\n",
       "        vertical-align: top;\n",
       "    }\n",
       "\n",
       "    .dataframe thead th {\n",
       "        text-align: right;\n",
       "    }\n",
       "</style>\n",
       "<table border=\"1\" class=\"dataframe\">\n",
       "  <thead>\n",
       "    <tr style=\"text-align: right;\">\n",
       "      <th></th>\n",
       "      <th>Image_id</th>\n",
       "    </tr>\n",
       "    <tr>\n",
       "      <th>Animal</th>\n",
       "      <th></th>\n",
       "    </tr>\n",
       "  </thead>\n",
       "  <tbody>\n",
       "    <tr>\n",
       "      <th>antelope</th>\n",
       "      <td>695</td>\n",
       "    </tr>\n",
       "    <tr>\n",
       "      <th>bat</th>\n",
       "      <td>256</td>\n",
       "    </tr>\n",
       "    <tr>\n",
       "      <th>beaver</th>\n",
       "      <td>133</td>\n",
       "    </tr>\n",
       "    <tr>\n",
       "      <th>bobcat</th>\n",
       "      <td>418</td>\n",
       "    </tr>\n",
       "    <tr>\n",
       "      <th>buffalo</th>\n",
       "      <td>606</td>\n",
       "    </tr>\n",
       "    <tr>\n",
       "      <th>chihuahua</th>\n",
       "      <td>386</td>\n",
       "    </tr>\n",
       "    <tr>\n",
       "      <th>chimpanzee</th>\n",
       "      <td>477</td>\n",
       "    </tr>\n",
       "    <tr>\n",
       "      <th>collie</th>\n",
       "      <td>680</td>\n",
       "    </tr>\n",
       "    <tr>\n",
       "      <th>dalmatian</th>\n",
       "      <td>359</td>\n",
       "    </tr>\n",
       "    <tr>\n",
       "      <th>german+shepherd</th>\n",
       "      <td>687</td>\n",
       "    </tr>\n",
       "    <tr>\n",
       "      <th>grizzly+bear</th>\n",
       "      <td>583</td>\n",
       "    </tr>\n",
       "    <tr>\n",
       "      <th>hippopotamus</th>\n",
       "      <td>464</td>\n",
       "    </tr>\n",
       "    <tr>\n",
       "      <th>horse</th>\n",
       "      <td>1111</td>\n",
       "    </tr>\n",
       "    <tr>\n",
       "      <th>killer+whale</th>\n",
       "      <td>193</td>\n",
       "    </tr>\n",
       "    <tr>\n",
       "      <th>mole</th>\n",
       "      <td>60</td>\n",
       "    </tr>\n",
       "    <tr>\n",
       "      <th>moose</th>\n",
       "      <td>476</td>\n",
       "    </tr>\n",
       "    <tr>\n",
       "      <th>mouse</th>\n",
       "      <td>124</td>\n",
       "    </tr>\n",
       "    <tr>\n",
       "      <th>otter</th>\n",
       "      <td>519</td>\n",
       "    </tr>\n",
       "    <tr>\n",
       "      <th>ox</th>\n",
       "      <td>501</td>\n",
       "    </tr>\n",
       "    <tr>\n",
       "      <th>persian+cat</th>\n",
       "      <td>491</td>\n",
       "    </tr>\n",
       "    <tr>\n",
       "      <th>raccoon</th>\n",
       "      <td>346</td>\n",
       "    </tr>\n",
       "    <tr>\n",
       "      <th>rat</th>\n",
       "      <td>220</td>\n",
       "    </tr>\n",
       "    <tr>\n",
       "      <th>rhinoceros</th>\n",
       "      <td>477</td>\n",
       "    </tr>\n",
       "    <tr>\n",
       "      <th>seal</th>\n",
       "      <td>665</td>\n",
       "    </tr>\n",
       "    <tr>\n",
       "      <th>siamese+cat</th>\n",
       "      <td>341</td>\n",
       "    </tr>\n",
       "    <tr>\n",
       "      <th>spider+monkey</th>\n",
       "      <td>189</td>\n",
       "    </tr>\n",
       "    <tr>\n",
       "      <th>squirrel</th>\n",
       "      <td>808</td>\n",
       "    </tr>\n",
       "    <tr>\n",
       "      <th>walrus</th>\n",
       "      <td>148</td>\n",
       "    </tr>\n",
       "    <tr>\n",
       "      <th>weasel</th>\n",
       "      <td>184</td>\n",
       "    </tr>\n",
       "    <tr>\n",
       "      <th>wolf</th>\n",
       "      <td>403</td>\n",
       "    </tr>\n",
       "  </tbody>\n",
       "</table>\n",
       "</div>"
      ],
      "text/plain": [
       "                 Image_id\n",
       "Animal                   \n",
       "antelope              695\n",
       "bat                   256\n",
       "beaver                133\n",
       "bobcat                418\n",
       "buffalo               606\n",
       "chihuahua             386\n",
       "chimpanzee            477\n",
       "collie                680\n",
       "dalmatian             359\n",
       "german+shepherd       687\n",
       "grizzly+bear          583\n",
       "hippopotamus          464\n",
       "horse                1111\n",
       "killer+whale          193\n",
       "mole                   60\n",
       "moose                 476\n",
       "mouse                 124\n",
       "otter                 519\n",
       "ox                    501\n",
       "persian+cat           491\n",
       "raccoon               346\n",
       "rat                   220\n",
       "rhinoceros            477\n",
       "seal                  665\n",
       "siamese+cat           341\n",
       "spider+monkey         189\n",
       "squirrel              808\n",
       "walrus                148\n",
       "weasel                184\n",
       "wolf                  403"
      ]
     },
     "execution_count": 124,
     "metadata": {
      "tags": []
     },
     "output_type": "execute_result"
    }
   ],
   "source": [
    "label_df.pivot_table(index='Animal', aggfunc=len).sort_values('Image_id', ascending=False) #group it up"
   ]
  },
  {
   "cell_type": "code",
   "execution_count": 0,
   "metadata": {
    "colab": {},
    "colab_type": "code",
    "id": "x6vRad8vc_iA"
   },
   "outputs": [],
   "source": [
    "tfms = tfms_from_model(arch, sz, aug_tfms=transforms_side_on, \n",
    "                       max_zoom=1.1)\n",
    "\n",
    "data = ImageClassifierData.from_csv(PATH, 'train', \n",
    "                 f'{PATH}train.csv', test_name='test', \n",
    "                 val_idxs = val_idxs , tfms=tfms, bs=bs)"
   ]
  },
  {
   "cell_type": "code",
   "execution_count": 0,
   "metadata": {
    "colab": {
     "base_uri": "https://localhost:8080/",
     "height": 34
    },
    "colab_type": "code",
    "executionInfo": {
     "elapsed": 652,
     "status": "ok",
     "timestamp": 1529188289091,
     "user": {
      "displayName": "Ahmed Mohamed",
      "photoUrl": "//lh4.googleusercontent.com/-saP9k9xgYEs/AAAAAAAAAAI/AAAAAAAAACI/MLe6QIUA344/s50-c-k-no/photo.jpg",
      "userId": "100438054878480961323"
     },
     "user_tz": -120
    },
    "id": "qLMOaXaWc_iM",
    "outputId": "46d5d568-a2dc-4c84-f255-d88590a3bd2a"
   },
   "outputs": [
    {
     "data": {
      "text/plain": [
       "'/content/clouderizer/fast.ai/data/train/Img-3.jpg'"
      ]
     },
     "execution_count": 17,
     "metadata": {
      "tags": []
     },
     "output_type": "execute_result"
    }
   ],
   "source": [
    "#You can access to training dataset by saying data.trn_ds and trn_ds contains a lot of things including file names (fnames)\n",
    "fn = PATH + data.trn_ds.fnames[1]; fn "
   ]
  },
  {
   "cell_type": "code",
   "execution_count": 0,
   "metadata": {
    "colab": {},
    "colab_type": "code",
    "id": "3NGbAfE2c_iS"
   },
   "outputs": [],
   "source": [
    "img = PIL.Image.open(fn); img"
   ]
  },
  {
   "cell_type": "code",
   "execution_count": 0,
   "metadata": {
    "colab": {
     "base_uri": "https://localhost:8080/",
     "height": 34
    },
    "colab_type": "code",
    "executionInfo": {
     "elapsed": 1167,
     "status": "ok",
     "timestamp": 1529188326258,
     "user": {
      "displayName": "Ahmed Mohamed",
      "photoUrl": "//lh4.googleusercontent.com/-saP9k9xgYEs/AAAAAAAAAAI/AAAAAAAAACI/MLe6QIUA344/s50-c-k-no/photo.jpg",
      "userId": "100438054878480961323"
     },
     "user_tz": -120
    },
    "id": "j1qsgL10c_ia",
    "outputId": "b09f0c51-1c9e-4dbf-cc72-9cb5a435650a"
   },
   "outputs": [
    {
     "data": {
      "text/plain": [
       "(1024, 683)"
      ]
     },
     "execution_count": 19,
     "metadata": {
      "tags": []
     },
     "output_type": "execute_result"
    }
   ],
   "source": [
    "img.size"
   ]
  },
  {
   "cell_type": "markdown",
   "metadata": {
    "colab_type": "text",
    "id": "TQTPjt0chHTE"
   },
   "source": [
    "### to know all sizes am dealing with"
   ]
  },
  {
   "cell_type": "code",
   "execution_count": 0,
   "metadata": {
    "colab": {},
    "colab_type": "code",
    "id": "-UX4RgbKc_iu"
   },
   "outputs": [],
   "source": [
    "size_d = {k: PIL.Image.open(PATH+k).size for k in data.trn_ds.fnames} # match name to size "
   ]
  },
  {
   "cell_type": "code",
   "execution_count": 0,
   "metadata": {
    "colab": {},
    "colab_type": "code",
    "id": "Kw2hPA6Tc_i-"
   },
   "outputs": [],
   "source": [
    "row_sz, col_sz = list(zip(*size_d.values()))"
   ]
  },
  {
   "cell_type": "code",
   "execution_count": 0,
   "metadata": {
    "colab": {},
    "colab_type": "code",
    "id": "u4fty6ylc_jG"
   },
   "outputs": [],
   "source": [
    "row_sz = np.array(row_sz);  col_sz = np.array(col_sz); "
   ]
  },
  {
   "cell_type": "code",
   "execution_count": 0,
   "metadata": {
    "colab": {
     "base_uri": "https://localhost:8080/",
     "height": 34
    },
    "colab_type": "code",
    "executionInfo": {
     "elapsed": 911,
     "status": "ok",
     "timestamp": 1529188336480,
     "user": {
      "displayName": "Ahmed Mohamed",
      "photoUrl": "//lh4.googleusercontent.com/-saP9k9xgYEs/AAAAAAAAAAI/AAAAAAAAACI/MLe6QIUA344/s50-c-k-no/photo.jpg",
      "userId": "100438054878480961323"
     },
     "user_tz": -120
    },
    "id": "lOs_hRzMc_jM",
    "outputId": "e562d030-4bcf-4216-d902-f9988e2b0ed9"
   },
   "outputs": [
    {
     "data": {
      "text/plain": [
       "array([1024, 1024,  332, 1024, 1024,  640,  333, 1024, 1024, 1024, 1024, 1024,  500, 1024, 1024])"
      ]
     },
     "execution_count": 23,
     "metadata": {
      "tags": []
     },
     "output_type": "execute_result"
    }
   ],
   "source": [
    "row_sz[:15]"
   ]
  },
  {
   "cell_type": "code",
   "execution_count": 0,
   "metadata": {
    "colab": {
     "base_uri": "https://localhost:8080/",
     "height": 34
    },
    "colab_type": "code",
    "executionInfo": {
     "elapsed": 2825,
     "status": "ok",
     "timestamp": 1529188339623,
     "user": {
      "displayName": "Ahmed Mohamed",
      "photoUrl": "//lh4.googleusercontent.com/-saP9k9xgYEs/AAAAAAAAAAI/AAAAAAAAACI/MLe6QIUA344/s50-c-k-no/photo.jpg",
      "userId": "100438054878480961323"
     },
     "user_tz": -120
    },
    "id": "I-k8-ohVc_jS",
    "outputId": "763a9980-149e-4b64-ef24-f4de2f7c2528"
   },
   "outputs": [
    {
     "data": {
      "text/plain": [
       "array([771, 683, 500, 768, 683, 426, 500, 681, 683, 768, 678, 683, 375, 683, 730])"
      ]
     },
     "execution_count": 24,
     "metadata": {
      "tags": []
     },
     "output_type": "execute_result"
    }
   ],
   "source": [
    "col_sz[:15]"
   ]
  },
  {
   "cell_type": "code",
   "execution_count": 0,
   "metadata": {
    "colab": {},
    "colab_type": "code",
    "id": "IiPw64R4c_jY"
   },
   "outputs": [],
   "source": [
    "plt.hist(row_sz);"
   ]
  },
  {
   "cell_type": "code",
   "execution_count": 0,
   "metadata": {
    "colab": {},
    "colab_type": "code",
    "id": "bUzCl5eoc_je"
   },
   "outputs": [],
   "source": [
    "plt.hist(col_sz);"
   ]
  },
  {
   "cell_type": "code",
   "execution_count": 0,
   "metadata": {
    "colab": {},
    "colab_type": "code",
    "id": "ZWe-CDA8c_ji"
   },
   "outputs": [],
   "source": [
    "plt.hist(row_sz[row_sz<1000])"
   ]
  },
  {
   "cell_type": "markdown",
   "metadata": {
    "colab_type": "text",
    "id": "WHOZHGOq0GtW"
   },
   "source": [
    "## Training"
   ]
  },
  {
   "cell_type": "code",
   "execution_count": 0,
   "metadata": {
    "colab": {},
    "colab_type": "code",
    "id": "Ul0pcMQuc_jm"
   },
   "outputs": [],
   "source": [
    "def get_data(sz, bs):\n",
    "    tfms = tfms_from_model(arch, sz, aug_tfms=transforms_side_on,\n",
    "                           max_zoom=1.1)\n",
    "    data = ImageClassifierData.from_csv(PATH, 'train', \n",
    "               f'{PATH}train.csv', test_name='test', num_workers=4,\n",
    "               val_idxs = val_idxs ,tfms=tfms, bs=bs)\n",
    "\n",
    "    return data if sz>300 else data.resize(340, 'tmp')"
   ]
  },
  {
   "cell_type": "code",
   "execution_count": 0,
   "metadata": {
    "colab": {},
    "colab_type": "code",
    "id": "cEiLCYCpc_kM"
   },
   "outputs": [],
   "source": [
    "data = get_data(224, 64)\n",
    "\n",
    "learn = ConvLearner.pretrained(arch, data, precompute=True)\n",
    "\n",
    "#learn.fit(1e-2, 5)\n",
    "#learn.fit(0.01,4)"
   ]
  },
  {
   "cell_type": "markdown",
   "metadata": {
    "colab_type": "text",
    "id": "nN4FgKoHqa9c"
   },
   "source": [
    "###choosing learning rate"
   ]
  },
  {
   "cell_type": "code",
   "execution_count": 0,
   "metadata": {
    "colab": {
     "base_uri": "https://localhost:8080/",
     "height": 51
    },
    "colab_type": "code",
    "executionInfo": {
     "elapsed": 7993,
     "status": "ok",
     "timestamp": 1529245803385,
     "user": {
      "displayName": "Ahmed Mohamed",
      "photoUrl": "//lh4.googleusercontent.com/-saP9k9xgYEs/AAAAAAAAAAI/AAAAAAAAACI/MLe6QIUA344/s50-c-k-no/photo.jpg",
      "userId": "100438054878480961323"
     },
     "user_tz": -120
    },
    "id": "BZ6Rh-Ns8RYS",
    "outputId": "16e58a1f-8a2e-4489-b6b1-a78e676387c4"
   },
   "outputs": [
    {
     "data": {
      "application/vnd.jupyter.widget-view+json": {
       "model_id": "f6d90297ebf644c791c0baa3c9f6a459",
       "version_major": 2,
       "version_minor": 0
      },
      "text/plain": [
       "HBox(children=(IntProgress(value=0, description='Epoch', max=1), HTML(value='')))"
      ]
     },
     "metadata": {
      "tags": []
     },
     "output_type": "display_data"
    },
    {
     "name": "stdout",
     "output_type": "stream",
     "text": [
      " 66%|██████▌   | 426/650 [00:07<00:03, 57.73it/s, loss=0.23] \n"
     ]
    }
   ],
   "source": [
    "#choosing learning rate\n",
    "lrf=learn.lr_find()"
   ]
  },
  {
   "cell_type": "code",
   "execution_count": 0,
   "metadata": {
    "colab": {},
    "colab_type": "code",
    "id": "qj0mOAaI8dPd"
   },
   "outputs": [],
   "source": [
    "learn.sched.plot_lr()"
   ]
  },
  {
   "cell_type": "code",
   "execution_count": 0,
   "metadata": {
    "colab": {},
    "colab_type": "code",
    "id": "fOZOP8oC8WBV"
   },
   "outputs": [],
   "source": [
    "learn.sched.plot()"
   ]
  },
  {
   "cell_type": "markdown",
   "metadata": {
    "colab_type": "text",
    "id": "R0NS5jLeqgwx"
   },
   "source": [
    "### Continue Training "
   ]
  },
  {
   "cell_type": "code",
   "execution_count": 0,
   "metadata": {
    "colab": {},
    "colab_type": "code",
    "id": "8Yrto0ZSmCX0"
   },
   "outputs": [],
   "source": [
    "bs=64 #batch size"
   ]
  },
  {
   "cell_type": "code",
   "execution_count": 0,
   "metadata": {
    "colab": {},
    "colab_type": "code",
    "id": "7A8sGufvRW54"
   },
   "outputs": [],
   "source": [
    "learn.precompute = False"
   ]
  },
  {
   "cell_type": "code",
   "execution_count": 0,
   "metadata": {
    "colab": {
     "base_uri": "https://localhost:8080/",
     "height": 119
    },
    "colab_type": "code",
    "executionInfo": {
     "elapsed": 835558,
     "status": "ok",
     "timestamp": 1529496361840,
     "user": {
      "displayName": "Ahmed Mohamed",
      "photoUrl": "//lh5.googleusercontent.com/-3czhhckiTHc/AAAAAAAAAAI/AAAAAAAAAHs/N2Y9B2a8wE4/s50-c-k-no/photo.jpg",
      "userId": "108555561654119603722"
     },
     "user_tz": -120
    },
    "id": "QInZdoMIRZI8",
    "outputId": "2925af91-226f-4199-bb29-ea9fd497ddcb"
   },
   "outputs": [
    {
     "data": {
      "application/vnd.jupyter.widget-view+json": {
       "model_id": "6f62898679ad415bae9886cc91045735",
       "version_major": 2,
       "version_minor": 0
      },
      "text/plain": [
       "HBox(children=(IntProgress(value=0, description='Epoch', max=2), HTML(value='')))"
      ]
     },
     "metadata": {
      "tags": []
     },
     "output_type": "display_data"
    },
    {
     "name": "stdout",
     "output_type": "stream",
     "text": [
      "epoch      trn_loss   val_loss   accuracy   \n",
      "    0      0.141684   0.142369   0.956538  \n",
      "    1      0.128146   0.14134    0.957692  \n",
      "\n"
     ]
    },
    {
     "data": {
      "text/plain": [
       "[array([0.14134]), 0.9576923076923077]"
      ]
     },
     "execution_count": 18,
     "metadata": {
      "tags": []
     },
     "output_type": "execute_result"
    }
   ],
   "source": [
    "learn.fit(1e-2, 2, cycle_len=1)"
   ]
  },
  {
   "cell_type": "code",
   "execution_count": 0,
   "metadata": {
    "colab": {},
    "colab_type": "code",
    "id": "OkeTophrRc38"
   },
   "outputs": [],
   "source": [
    "learn.save('224_pre')\n",
    "learn.load('224_pre')"
   ]
  },
  {
   "cell_type": "code",
   "execution_count": 0,
   "metadata": {
    "colab": {},
    "colab_type": "code",
    "id": "wLkRcU6NRczY"
   },
   "outputs": [],
   "source": [
    "lr = 0.01"
   ]
  },
  {
   "cell_type": "code",
   "execution_count": 0,
   "metadata": {
    "colab": {},
    "colab_type": "code",
    "id": "1q2bXEClRcrp"
   },
   "outputs": [],
   "source": [
    "lrs=np.array([1e-4,1e-3,1e-2])"
   ]
  },
  {
   "cell_type": "code",
   "execution_count": 0,
   "metadata": {
    "colab": {
     "base_uri": "https://localhost:8080/",
     "height": 170
    },
    "colab_type": "code",
    "executionInfo": {
     "elapsed": 3675122,
     "status": "ok",
     "timestamp": 1529500176329,
     "user": {
      "displayName": "Ahmed Mohamed",
      "photoUrl": "//lh5.googleusercontent.com/-3czhhckiTHc/AAAAAAAAAAI/AAAAAAAAAHs/N2Y9B2a8wE4/s50-c-k-no/photo.jpg",
      "userId": "108555561654119603722"
     },
     "user_tz": -120
    },
    "id": "HwLvwsqZRcnP",
    "outputId": "6c5c6558-acb1-4bd9-b571-4c3de7748cd0"
   },
   "outputs": [
    {
     "data": {
      "application/vnd.jupyter.widget-view+json": {
       "model_id": "acb012d72b824166b96107d685657bd6",
       "version_major": 2,
       "version_minor": 0
      },
      "text/plain": [
       "HBox(children=(IntProgress(value=0, max=6), HTML(value='')))"
      ]
     },
     "metadata": {
      "tags": []
     },
     "output_type": "display_data"
    },
    {
     "name": "stdout",
     "output_type": "stream",
     "text": [
      "\n"
     ]
    },
    {
     "data": {
      "application/vnd.jupyter.widget-view+json": {
       "model_id": "31db39f255394d028e43c84f6801db3e",
       "version_major": 2,
       "version_minor": 0
      },
      "text/plain": [
       "HBox(children=(IntProgress(value=0, description='Epoch', max=3), HTML(value='')))"
      ]
     },
     "metadata": {
      "tags": []
     },
     "output_type": "display_data"
    },
    {
     "name": "stdout",
     "output_type": "stream",
     "text": [
      "epoch      trn_loss   val_loss   accuracy   \n",
      "    0      0.296852   0.157923   0.953462  \n",
      " 11%|█         | 69/650 [02:02<17:11,  1.77s/it, loss=0.267]    1      0.310218   0.168865   0.95      \n",
      " 22%|██▏       | 140/650 [04:05<14:52,  1.75s/it, loss=0.148]    2      0.136627   0.142401   0.956538  \n",
      "\n"
     ]
    },
    {
     "data": {
      "text/plain": [
       "[array([0.1424]), 0.9565384615384616]"
      ]
     },
     "execution_count": 20,
     "metadata": {
      "tags": []
     },
     "output_type": "execute_result"
    }
   ],
   "source": [
    "learn.set_data(get_data(224, 16))\n",
    "learn.unfreeze()\n",
    "learn.fit(lrs, 2, cycle_len=1, cycle_mult=2)"
   ]
  },
  {
   "cell_type": "code",
   "execution_count": 0,
   "metadata": {
    "colab": {},
    "colab_type": "code",
    "id": "UsXsdVx-RclT"
   },
   "outputs": [],
   "source": [
    "learn.save('224_unf')\n",
    "learn.load('224_unf')"
   ]
  },
  {
   "cell_type": "code",
   "execution_count": 0,
   "metadata": {
    "colab": {
     "base_uri": "https://localhost:8080/",
     "height": 238
    },
    "colab_type": "code",
    "executionInfo": {
     "elapsed": 5342605,
     "status": "ok",
     "timestamp": 1529505651147,
     "user": {
      "displayName": "Ahmed Mohamed",
      "photoUrl": "//lh5.googleusercontent.com/-3czhhckiTHc/AAAAAAAAAAI/AAAAAAAAAHs/N2Y9B2a8wE4/s50-c-k-no/photo.jpg",
      "userId": "108555561654119603722"
     },
     "user_tz": -120
    },
    "id": "utAxQJFTRcez",
    "outputId": "dc2088a3-7ad2-4625-cf11-8bfdff42cb7d"
   },
   "outputs": [
    {
     "data": {
      "application/vnd.jupyter.widget-view+json": {
       "model_id": "ce03197161564b59a3139ffcd98c7943",
       "version_major": 2,
       "version_minor": 0
      },
      "text/plain": [
       "HBox(children=(IntProgress(value=0, max=6), HTML(value='')))"
      ]
     },
     "metadata": {
      "tags": []
     },
     "output_type": "display_data"
    },
    {
     "name": "stdout",
     "output_type": "stream",
     "text": [
      "\n"
     ]
    },
    {
     "data": {
      "application/vnd.jupyter.widget-view+json": {
       "model_id": "ddd823787a5d4c07a8d2974886212820",
       "version_major": 2,
       "version_minor": 0
      },
      "text/plain": [
       "HBox(children=(IntProgress(value=0, description='Epoch', max=7), HTML(value='')))"
      ]
     },
     "metadata": {
      "tags": []
     },
     "output_type": "display_data"
    },
    {
     "name": "stdout",
     "output_type": "stream",
     "text": [
      "epoch      trn_loss   val_loss   accuracy   \n",
      "    0      0.058037   0.117189   0.963846  \n",
      "    1      0.053475   0.115467   0.963462  \n",
      " 48%|████▊     | 78/163 [04:52<05:19,  3.76s/it, loss=0.0493]    2      0.044146   0.115534   0.963846  \n",
      "    3      0.040821   0.114715   0.964231  \n",
      "    4      0.038928   0.11441    0.963846  \n",
      "  9%|▊         | 14/163 [00:58<10:23,  4.18s/it, loss=0.0377]    5      0.038991   0.114662   0.963462  \n",
      "    6      0.035684   0.114365   0.963077  \n",
      "\n"
     ]
    },
    {
     "data": {
      "text/plain": [
       "[array([0.11436]), 0.9630769227101252]"
      ]
     },
     "execution_count": 22,
     "metadata": {
      "tags": []
     },
     "output_type": "execute_result"
    }
   ],
   "source": [
    "learn.set_data(get_data(299, 64))\n",
    "learn.freeze()\n",
    "learn.fit(lr, 3, cycle_len=1, cycle_mult=2)"
   ]
  },
  {
   "cell_type": "code",
   "execution_count": 0,
   "metadata": {
    "colab": {},
    "colab_type": "code",
    "id": "VFKQFInzRyGh"
   },
   "outputs": [],
   "source": [
    "learn.save('229_pre')\n",
    "learn.load('229_pre')"
   ]
  },
  {
   "cell_type": "code",
   "execution_count": 0,
   "metadata": {
    "colab": {},
    "colab_type": "code",
    "id": "XGBtQE-FRyCN"
   },
   "outputs": [],
   "source": [
    "learn.set_data(get_data(360, 64))"
   ]
  },
  {
   "cell_type": "code",
   "execution_count": 0,
   "metadata": {
    "colab": {
     "base_uri": "https://localhost:8080/",
     "height": 136
    },
    "colab_type": "code",
    "executionInfo": {
     "elapsed": 3342972,
     "status": "ok",
     "timestamp": 1529509200007,
     "user": {
      "displayName": "Ahmed Mohamed",
      "photoUrl": "//lh5.googleusercontent.com/-3czhhckiTHc/AAAAAAAAAAI/AAAAAAAAAHs/N2Y9B2a8wE4/s50-c-k-no/photo.jpg",
      "userId": "108555561654119603722"
     },
     "user_tz": -120
    },
    "id": "kiSow-v7Rx_e",
    "outputId": "55aeed42-0617-4bb0-d7fa-5f9e71274595"
   },
   "outputs": [
    {
     "data": {
      "application/vnd.jupyter.widget-view+json": {
       "model_id": "4ecc25e81b6a43798e5a96ac0bb033d2",
       "version_major": 2,
       "version_minor": 0
      },
      "text/plain": [
       "HBox(children=(IntProgress(value=0, description='Epoch', max=3), HTML(value='')))"
      ]
     },
     "metadata": {
      "tags": []
     },
     "output_type": "display_data"
    },
    {
     "name": "stdout",
     "output_type": "stream",
     "text": [
      "epoch      trn_loss   val_loss   accuracy   \n",
      "    0      0.053009   0.109806   0.970385  \n",
      "    1      0.05007    0.107951   0.971538  \n",
      " 48%|████▊     | 78/163 [07:07<07:45,  5.47s/it, loss=0.0422]    2      0.048411   0.107882   0.97      \n",
      "\n"
     ]
    },
    {
     "data": {
      "text/plain": [
       "[array([0.10788]), 0.9699999996332022]"
      ]
     },
     "execution_count": 25,
     "metadata": {
      "tags": []
     },
     "output_type": "execute_result"
    }
   ],
   "source": [
    "learn.fit(lr, 2, cycle_len=1, cycle_mult=2)"
   ]
  },
  {
   "cell_type": "code",
   "execution_count": 0,
   "metadata": {
    "colab": {},
    "colab_type": "code",
    "id": "oJOtpEG3Rx6t"
   },
   "outputs": [],
   "source": [
    "learn.save('360_pre')\n",
    "learn.load('360_pre')"
   ]
  },
  {
   "cell_type": "code",
   "execution_count": 0,
   "metadata": {
    "colab": {
     "base_uri": "https://localhost:8080/",
     "height": 34
    },
    "colab_type": "code",
    "executionInfo": {
     "elapsed": 1111581,
     "status": "ok",
     "timestamp": 1529510314455,
     "user": {
      "displayName": "Ahmed Mohamed",
      "photoUrl": "//lh5.googleusercontent.com/-3czhhckiTHc/AAAAAAAAAAI/AAAAAAAAAHs/N2Y9B2a8wE4/s50-c-k-no/photo.jpg",
      "userId": "108555561654119603722"
     },
     "user_tz": -120
    },
    "id": "Ey-ENf7cx7y6",
    "outputId": "942c700e-dc41-4086-b3de-83b0966602c6"
   },
   "outputs": [
    {
     "name": "stdout",
     "output_type": "stream",
     "text": []
    },
    {
     "data": {
      "text/plain": [
       "(0.9730769230769231, 0.09717620105283725)"
      ]
     },
     "execution_count": 27,
     "metadata": {
      "tags": []
     },
     "output_type": "execute_result"
    }
   ],
   "source": [
    "log_preds, y = learn.TTA()\n",
    "probs = np.mean(np.exp(log_preds),0)\n",
    "accuracy_np(probs,y) ,metrics.log_loss(y, probs)"
   ]
  },
  {
   "cell_type": "code",
   "execution_count": 0,
   "metadata": {
    "colab": {},
    "colab_type": "code",
    "id": "P7dOH9aAxkVp"
   },
   "outputs": [],
   "source": [
    "learn.set_data(get_data(420, 16))"
   ]
  },
  {
   "cell_type": "code",
   "execution_count": 0,
   "metadata": {
    "colab": {
     "base_uri": "https://localhost:8080/",
     "height": 102
    },
    "colab_type": "code",
    "executionInfo": {
     "elapsed": 1553789,
     "status": "ok",
     "timestamp": 1529511869118,
     "user": {
      "displayName": "Ahmed Mohamed",
      "photoUrl": "//lh5.googleusercontent.com/-3czhhckiTHc/AAAAAAAAAAI/AAAAAAAAAHs/N2Y9B2a8wE4/s50-c-k-no/photo.jpg",
      "userId": "108555561654119603722"
     },
     "user_tz": -120
    },
    "id": "euujKNIlRx1D",
    "outputId": "6d85022c-6c89-445f-b349-44538ec58470"
   },
   "outputs": [
    {
     "data": {
      "application/vnd.jupyter.widget-view+json": {
       "model_id": "2a3f3e3fae8e4219b022858032f45833",
       "version_major": 2,
       "version_minor": 0
      },
      "text/plain": [
       "HBox(children=(IntProgress(value=0, description='Epoch', max=1), HTML(value='')))"
      ]
     },
     "metadata": {
      "tags": []
     },
     "output_type": "display_data"
    },
    {
     "name": "stdout",
     "output_type": "stream",
     "text": [
      "epoch      trn_loss   val_loss   accuracy   \n",
      "    0      0.091034   0.118893   0.964615  \n",
      "\n"
     ]
    },
    {
     "data": {
      "text/plain": [
       "[array([0.11889]), 0.9646153846153847]"
      ]
     },
     "execution_count": 29,
     "metadata": {
      "tags": []
     },
     "output_type": "execute_result"
    }
   ],
   "source": [
    "learn.fit(lr, 1 )"
   ]
  },
  {
   "cell_type": "code",
   "execution_count": 0,
   "metadata": {
    "colab": {
     "base_uri": "https://localhost:8080/",
     "height": 119
    },
    "colab_type": "code",
    "executionInfo": {
     "elapsed": 3069227,
     "status": "ok",
     "timestamp": 1529517544458,
     "user": {
      "displayName": "Ahmed Mohamed",
      "photoUrl": "//lh5.googleusercontent.com/-3czhhckiTHc/AAAAAAAAAAI/AAAAAAAAAHs/N2Y9B2a8wE4/s50-c-k-no/photo.jpg",
      "userId": "108555561654119603722"
     },
     "user_tz": -120
    },
    "id": "3cUXgeVSKkRt",
    "outputId": "1fd7871c-544e-492e-e524-675a7e0c3f74"
   },
   "outputs": [
    {
     "data": {
      "application/vnd.jupyter.widget-view+json": {
       "model_id": "94f6a67391bb44f188765e4885e18460",
       "version_major": 2,
       "version_minor": 0
      },
      "text/plain": [
       "HBox(children=(IntProgress(value=0, description='Epoch', max=2), HTML(value='')))"
      ]
     },
     "metadata": {
      "tags": []
     },
     "output_type": "display_data"
    },
    {
     "name": "stdout",
     "output_type": "stream",
     "text": [
      "epoch      trn_loss   val_loss   accuracy   \n",
      "    0      0.047891   0.109113   0.969231  \n",
      "    1      0.047826   0.10787    0.97      \n",
      "\n"
     ]
    },
    {
     "data": {
      "text/plain": [
       "[array([0.10787]), 0.9699999996332022]"
      ]
     },
     "execution_count": 32,
     "metadata": {
      "tags": []
     },
     "output_type": "execute_result"
    }
   ],
   "source": [
    "learn.fit(lr, 2 )"
   ]
  },
  {
   "cell_type": "code",
   "execution_count": 0,
   "metadata": {
    "colab": {},
    "colab_type": "code",
    "id": "7W1D2LUGziCJ"
   },
   "outputs": [],
   "source": [
    "learn.save('420_pre')\n",
    "learn.load('420_pre')"
   ]
  },
  {
   "cell_type": "code",
   "execution_count": 0,
   "metadata": {
    "colab": {
     "base_uri": "https://localhost:8080/",
     "height": 34
    },
    "colab_type": "code",
    "executionInfo": {
     "elapsed": 1531314,
     "status": "ok",
     "timestamp": 1529519760633,
     "user": {
      "displayName": "Ahmed Mohamed",
      "photoUrl": "//lh5.googleusercontent.com/-3czhhckiTHc/AAAAAAAAAAI/AAAAAAAAAHs/N2Y9B2a8wE4/s50-c-k-no/photo.jpg",
      "userId": "108555561654119603722"
     },
     "user_tz": -120
    },
    "id": "8kAfMelYznbu",
    "outputId": "2d7c5d31-8d72-42f5-fc54-6ae0c267a081"
   },
   "outputs": [
    {
     "name": "stdout",
     "output_type": "stream",
     "text": []
    },
    {
     "data": {
      "text/plain": [
       "(0.9742307692307692, 0.09447401728880171)"
      ]
     },
     "execution_count": 34,
     "metadata": {
      "tags": []
     },
     "output_type": "execute_result"
    }
   ],
   "source": [
    "learn.set_data(get_data(420, 64))\n",
    "log_preds, y = learn.TTA()\n",
    "probs = np.mean(np.exp(log_preds),0)\n",
    "accuracy_np(probs,y) ,metrics.log_loss(y, probs)"
   ]
  },
  {
   "cell_type": "code",
   "execution_count": 0,
   "metadata": {
    "colab": {
     "base_uri": "https://localhost:8080/",
     "height": 102
    },
    "colab_type": "code",
    "executionInfo": {
     "elapsed": 1524167,
     "status": "ok",
     "timestamp": 1529521429653,
     "user": {
      "displayName": "Ahmed Mohamed",
      "photoUrl": "//lh5.googleusercontent.com/-3czhhckiTHc/AAAAAAAAAAI/AAAAAAAAAHs/N2Y9B2a8wE4/s50-c-k-no/photo.jpg",
      "userId": "108555561654119603722"
     },
     "user_tz": -120
    },
    "id": "45UZP-1ofGUw",
    "outputId": "28bcf0d3-fdf8-4540-8d7e-df8400dea8bb"
   },
   "outputs": [
    {
     "data": {
      "application/vnd.jupyter.widget-view+json": {
       "model_id": "bee04a13ad4d467f93b6e7b8dfa1ce5c",
       "version_major": 2,
       "version_minor": 0
      },
      "text/plain": [
       "HBox(children=(IntProgress(value=0, description='Epoch', max=1), HTML(value='')))"
      ]
     },
     "metadata": {
      "tags": []
     },
     "output_type": "display_data"
    },
    {
     "name": "stdout",
     "output_type": "stream",
     "text": [
      "epoch      trn_loss   val_loss   accuracy   \n",
      "    0      0.037042   0.106252   0.970385  \n",
      "\n"
     ]
    },
    {
     "data": {
      "text/plain": [
       "[array([0.10625]), 0.9703846155680143]"
      ]
     },
     "execution_count": 35,
     "metadata": {
      "tags": []
     },
     "output_type": "execute_result"
    }
   ],
   "source": [
    "learn.fit(lr, 1)"
   ]
  },
  {
   "cell_type": "code",
   "execution_count": 0,
   "metadata": {
    "colab": {
     "base_uri": "https://localhost:8080/",
     "height": 34
    },
    "colab_type": "code",
    "executionInfo": {
     "elapsed": 1552906,
     "status": "ok",
     "timestamp": 1529522982618,
     "user": {
      "displayName": "Ahmed Mohamed",
      "photoUrl": "//lh5.googleusercontent.com/-3czhhckiTHc/AAAAAAAAAAI/AAAAAAAAAHs/N2Y9B2a8wE4/s50-c-k-no/photo.jpg",
      "userId": "108555561654119603722"
     },
     "user_tz": -120
    },
    "id": "U3UJG77Tj66r",
    "outputId": "24a416ee-7b3d-44c4-be30-5a880b3b9a68"
   },
   "outputs": [
    {
     "name": "stdout",
     "output_type": "stream",
     "text": []
    },
    {
     "data": {
      "text/plain": [
       "(0.975, 0.09650832684605656)"
      ]
     },
     "execution_count": 36,
     "metadata": {
      "tags": []
     },
     "output_type": "execute_result"
    }
   ],
   "source": [
    "learn.set_data(get_data(420, 128))\n",
    "log_preds, y = learn.TTA()\n",
    "probs = np.mean(np.exp(log_preds),0)\n",
    "accuracy_np(probs,y) ,metrics.log_loss(y, probs)"
   ]
  },
  {
   "cell_type": "code",
   "execution_count": 0,
   "metadata": {
    "colab": {},
    "colab_type": "code",
    "id": "vvBQrNEgsAKs"
   },
   "outputs": [],
   "source": [
    "learn.save('420_pree')\n",
    "learn.load('420_pree')"
   ]
  },
  {
   "cell_type": "markdown",
   "metadata": {
    "colab_type": "text",
    "id": "Fq8rVpVES4Nw"
   },
   "source": [
    "#After Training"
   ]
  },
  {
   "cell_type": "markdown",
   "metadata": {
    "colab_type": "text",
    "id": "5NHaPMDJWN2q"
   },
   "source": [
    "##Getting data to submit"
   ]
  },
  {
   "cell_type": "code",
   "execution_count": 0,
   "metadata": {
    "colab": {},
    "colab_type": "code",
    "id": "qGR6-EguquW6"
   },
   "outputs": [],
   "source": [
    "log_preds, y = learn.TTA(is_test=True)"
   ]
  },
  {
   "cell_type": "code",
   "execution_count": 0,
   "metadata": {
    "colab": {},
    "colab_type": "code",
    "id": "2f8XosBtrDXQ"
   },
   "outputs": [],
   "source": [
    "probs = np.mean(np.exp(log_preds),0)"
   ]
  },
  {
   "cell_type": "code",
   "execution_count": 0,
   "metadata": {
    "colab": {
     "base_uri": "https://localhost:8080/",
     "height": 34
    },
    "colab_type": "code",
    "executionInfo": {
     "elapsed": 606,
     "status": "ok",
     "timestamp": 1529008208531,
     "user": {
      "displayName": "Ahmed Mohamed",
      "photoUrl": "//lh4.googleusercontent.com/-saP9k9xgYEs/AAAAAAAAAAI/AAAAAAAAACI/MLe6QIUA344/s50-c-k-no/photo.jpg",
      "userId": "100438054878480961323"
     },
     "user_tz": -120
    },
    "id": "BhTXTdLctj7i",
    "outputId": "5aa64151-e459-40f4-98e6-ca7be37e0ab9"
   },
   "outputs": [
    {
     "data": {
      "text/plain": [
       "(6000, 30)"
      ]
     },
     "execution_count": 90,
     "metadata": {
      "tags": []
     },
     "output_type": "execute_result"
    }
   ],
   "source": [
    "probs.shape"
   ]
  },
  {
   "cell_type": "code",
   "execution_count": 0,
   "metadata": {
    "colab": {},
    "colab_type": "code",
    "id": "_Q52VLhttjmm"
   },
   "outputs": [],
   "source": [
    "df = pd.DataFrame(probs)\n",
    "df.columns = data.classes"
   ]
  },
  {
   "cell_type": "code",
   "execution_count": 0,
   "metadata": {
    "colab": {},
    "colab_type": "code",
    "id": "2M8eM-3_ufGg"
   },
   "outputs": [],
   "source": [
    "df.insert(0, 'image_id', [o[5:-4] for o in data.test_ds.fnames])"
   ]
  },
  {
   "cell_type": "code",
   "execution_count": 0,
   "metadata": {
    "colab": {
     "base_uri": "https://localhost:8080/",
     "height": 338
    },
    "colab_type": "code",
    "executionInfo": {
     "elapsed": 2322,
     "status": "ok",
     "timestamp": 1529008371823,
     "user": {
      "displayName": "Ahmed Mohamed",
      "photoUrl": "//lh4.googleusercontent.com/-saP9k9xgYEs/AAAAAAAAAAI/AAAAAAAAACI/MLe6QIUA344/s50-c-k-no/photo.jpg",
      "userId": "100438054878480961323"
     },
     "user_tz": -120
    },
    "id": "LCqR969Nui3S",
    "outputId": "a7e61092-2c37-4fcc-b51f-23bf761e6b01"
   },
   "outputs": [
    {
     "data": {
      "text/html": [
       "<div>\n",
       "<style scoped>\n",
       "    .dataframe tbody tr th:only-of-type {\n",
       "        vertical-align: middle;\n",
       "    }\n",
       "\n",
       "    .dataframe tbody tr th {\n",
       "        vertical-align: top;\n",
       "    }\n",
       "\n",
       "    .dataframe thead th {\n",
       "        text-align: right;\n",
       "    }\n",
       "</style>\n",
       "<table border=\"1\" class=\"dataframe\">\n",
       "  <thead>\n",
       "    <tr style=\"text-align: right;\">\n",
       "      <th></th>\n",
       "      <th>image_id</th>\n",
       "      <th>antelope</th>\n",
       "      <th>bat</th>\n",
       "      <th>beaver</th>\n",
       "      <th>bobcat</th>\n",
       "      <th>buffalo</th>\n",
       "      <th>chihuahua</th>\n",
       "      <th>chimpanzee</th>\n",
       "      <th>collie</th>\n",
       "      <th>dalmatian</th>\n",
       "      <th>...</th>\n",
       "      <th>raccoon</th>\n",
       "      <th>rat</th>\n",
       "      <th>rhinoceros</th>\n",
       "      <th>seal</th>\n",
       "      <th>siamese+cat</th>\n",
       "      <th>spider+monkey</th>\n",
       "      <th>squirrel</th>\n",
       "      <th>walrus</th>\n",
       "      <th>weasel</th>\n",
       "      <th>wolf</th>\n",
       "    </tr>\n",
       "  </thead>\n",
       "  <tbody>\n",
       "    <tr>\n",
       "      <th>0</th>\n",
       "      <td>Img-345</td>\n",
       "      <td>2.290621e-08</td>\n",
       "      <td>5.397823e-08</td>\n",
       "      <td>9.216159e-07</td>\n",
       "      <td>0.000001</td>\n",
       "      <td>1.009505e-07</td>\n",
       "      <td>2.179231e-07</td>\n",
       "      <td>6.606081e-08</td>\n",
       "      <td>1.927896e-04</td>\n",
       "      <td>3.451408e-07</td>\n",
       "      <td>...</td>\n",
       "      <td>3.039962e-07</td>\n",
       "      <td>2.646936e-08</td>\n",
       "      <td>1.138957e-07</td>\n",
       "      <td>2.144957e-08</td>\n",
       "      <td>7.391552e-07</td>\n",
       "      <td>6.125757e-08</td>\n",
       "      <td>1.621851e-06</td>\n",
       "      <td>0.000002</td>\n",
       "      <td>2.338239e-06</td>\n",
       "      <td>0.000019</td>\n",
       "    </tr>\n",
       "    <tr>\n",
       "      <th>1</th>\n",
       "      <td>Img-4435</td>\n",
       "      <td>1.714287e-03</td>\n",
       "      <td>5.230980e-07</td>\n",
       "      <td>1.888318e-06</td>\n",
       "      <td>0.000004</td>\n",
       "      <td>1.981154e-05</td>\n",
       "      <td>4.183834e-07</td>\n",
       "      <td>1.010958e-06</td>\n",
       "      <td>3.067886e-07</td>\n",
       "      <td>3.624005e-06</td>\n",
       "      <td>...</td>\n",
       "      <td>1.470643e-05</td>\n",
       "      <td>3.828263e-06</td>\n",
       "      <td>9.975151e-01</td>\n",
       "      <td>8.201774e-06</td>\n",
       "      <td>8.520691e-07</td>\n",
       "      <td>2.560058e-06</td>\n",
       "      <td>8.819440e-07</td>\n",
       "      <td>0.000001</td>\n",
       "      <td>1.416625e-07</td>\n",
       "      <td>0.000001</td>\n",
       "    </tr>\n",
       "    <tr>\n",
       "      <th>2</th>\n",
       "      <td>Img-3265</td>\n",
       "      <td>1.669903e-05</td>\n",
       "      <td>2.376876e-05</td>\n",
       "      <td>5.170976e-05</td>\n",
       "      <td>0.000016</td>\n",
       "      <td>9.971881e-01</td>\n",
       "      <td>1.246746e-06</td>\n",
       "      <td>1.222767e-05</td>\n",
       "      <td>1.217500e-06</td>\n",
       "      <td>2.189813e-06</td>\n",
       "      <td>...</td>\n",
       "      <td>7.326244e-06</td>\n",
       "      <td>3.169375e-06</td>\n",
       "      <td>1.315738e-04</td>\n",
       "      <td>1.736059e-05</td>\n",
       "      <td>8.714651e-06</td>\n",
       "      <td>2.145174e-05</td>\n",
       "      <td>1.025993e-05</td>\n",
       "      <td>0.000019</td>\n",
       "      <td>5.097419e-06</td>\n",
       "      <td>0.000002</td>\n",
       "    </tr>\n",
       "    <tr>\n",
       "      <th>3</th>\n",
       "      <td>Img-2502</td>\n",
       "      <td>3.286192e-04</td>\n",
       "      <td>1.710425e-03</td>\n",
       "      <td>9.071530e-06</td>\n",
       "      <td>0.000017</td>\n",
       "      <td>1.314390e-04</td>\n",
       "      <td>5.754872e-06</td>\n",
       "      <td>2.080876e-06</td>\n",
       "      <td>8.450975e-07</td>\n",
       "      <td>3.728858e-06</td>\n",
       "      <td>...</td>\n",
       "      <td>2.356798e-06</td>\n",
       "      <td>2.367558e-05</td>\n",
       "      <td>9.970737e-01</td>\n",
       "      <td>8.674498e-06</td>\n",
       "      <td>5.989785e-06</td>\n",
       "      <td>5.226643e-06</td>\n",
       "      <td>1.977831e-05</td>\n",
       "      <td>0.000051</td>\n",
       "      <td>8.205399e-07</td>\n",
       "      <td>0.000002</td>\n",
       "    </tr>\n",
       "    <tr>\n",
       "      <th>4</th>\n",
       "      <td>Img-5845</td>\n",
       "      <td>7.917402e-05</td>\n",
       "      <td>1.728868e-05</td>\n",
       "      <td>1.186067e-04</td>\n",
       "      <td>0.000031</td>\n",
       "      <td>1.716332e-05</td>\n",
       "      <td>7.321220e-06</td>\n",
       "      <td>6.668857e-06</td>\n",
       "      <td>1.710979e-05</td>\n",
       "      <td>4.577196e-05</td>\n",
       "      <td>...</td>\n",
       "      <td>2.145957e-06</td>\n",
       "      <td>7.412130e-04</td>\n",
       "      <td>3.152601e-06</td>\n",
       "      <td>9.907900e-01</td>\n",
       "      <td>1.174130e-04</td>\n",
       "      <td>1.349383e-05</td>\n",
       "      <td>3.716028e-04</td>\n",
       "      <td>0.003146</td>\n",
       "      <td>3.120525e-05</td>\n",
       "      <td>0.000007</td>\n",
       "    </tr>\n",
       "  </tbody>\n",
       "</table>\n",
       "<p>5 rows × 31 columns</p>\n",
       "</div>"
      ],
      "text/plain": [
       "   image_id      antelope           bat        beaver    bobcat       buffalo  \\\n",
       "0   Img-345  2.290621e-08  5.397823e-08  9.216159e-07  0.000001  1.009505e-07   \n",
       "1  Img-4435  1.714287e-03  5.230980e-07  1.888318e-06  0.000004  1.981154e-05   \n",
       "2  Img-3265  1.669903e-05  2.376876e-05  5.170976e-05  0.000016  9.971881e-01   \n",
       "3  Img-2502  3.286192e-04  1.710425e-03  9.071530e-06  0.000017  1.314390e-04   \n",
       "4  Img-5845  7.917402e-05  1.728868e-05  1.186067e-04  0.000031  1.716332e-05   \n",
       "\n",
       "      chihuahua    chimpanzee        collie     dalmatian    ...     \\\n",
       "0  2.179231e-07  6.606081e-08  1.927896e-04  3.451408e-07    ...      \n",
       "1  4.183834e-07  1.010958e-06  3.067886e-07  3.624005e-06    ...      \n",
       "2  1.246746e-06  1.222767e-05  1.217500e-06  2.189813e-06    ...      \n",
       "3  5.754872e-06  2.080876e-06  8.450975e-07  3.728858e-06    ...      \n",
       "4  7.321220e-06  6.668857e-06  1.710979e-05  4.577196e-05    ...      \n",
       "\n",
       "        raccoon           rat    rhinoceros          seal   siamese+cat  \\\n",
       "0  3.039962e-07  2.646936e-08  1.138957e-07  2.144957e-08  7.391552e-07   \n",
       "1  1.470643e-05  3.828263e-06  9.975151e-01  8.201774e-06  8.520691e-07   \n",
       "2  7.326244e-06  3.169375e-06  1.315738e-04  1.736059e-05  8.714651e-06   \n",
       "3  2.356798e-06  2.367558e-05  9.970737e-01  8.674498e-06  5.989785e-06   \n",
       "4  2.145957e-06  7.412130e-04  3.152601e-06  9.907900e-01  1.174130e-04   \n",
       "\n",
       "   spider+monkey      squirrel    walrus        weasel      wolf  \n",
       "0   6.125757e-08  1.621851e-06  0.000002  2.338239e-06  0.000019  \n",
       "1   2.560058e-06  8.819440e-07  0.000001  1.416625e-07  0.000001  \n",
       "2   2.145174e-05  1.025993e-05  0.000019  5.097419e-06  0.000002  \n",
       "3   5.226643e-06  1.977831e-05  0.000051  8.205399e-07  0.000002  \n",
       "4   1.349383e-05  3.716028e-04  0.003146  3.120525e-05  0.000007  \n",
       "\n",
       "[5 rows x 31 columns]"
      ]
     },
     "execution_count": 102,
     "metadata": {
      "tags": []
     },
     "output_type": "execute_result"
    }
   ],
   "source": [
    "df.head()"
   ]
  },
  {
   "cell_type": "code",
   "execution_count": 0,
   "metadata": {
    "colab": {},
    "colab_type": "code",
    "id": "edxN3ZZjus8e"
   },
   "outputs": [],
   "source": [
    "#make csv and zip it \n",
    "SUBM = f'{PATH}sub/' \n",
    "os.makedirs(SUBM, exist_ok=True) \n",
    "df.to_csv(f'{SUBM}subm4.gz', compression='gzip', index=False)"
   ]
  },
  {
   "cell_type": "code",
   "execution_count": 0,
   "metadata": {
    "colab": {
     "base_uri": "https://localhost:8080/",
     "height": 34
    },
    "colab_type": "code",
    "executionInfo": {
     "elapsed": 2131,
     "status": "ok",
     "timestamp": 1529008391072,
     "user": {
      "displayName": "Ahmed Mohamed",
      "photoUrl": "//lh4.googleusercontent.com/-saP9k9xgYEs/AAAAAAAAAAI/AAAAAAAAACI/MLe6QIUA344/s50-c-k-no/photo.jpg",
      "userId": "100438054878480961323"
     },
     "user_tz": -120
    },
    "id": "hDm3r8dQvZJO",
    "outputId": "95a6a9ec-954a-4f25-a9fc-596f577c270b"
   },
   "outputs": [
    {
     "data": {
      "text/html": [
       "<a href='/content/clouderizer/fast.ai/data/sub/subm.gz' target='_blank'>/content/clouderizer/fast.ai/data/sub/subm.gz</a><br>"
      ],
      "text/plain": [
       "/content/clouderizer/fast.ai/data/sub/subm.gz"
      ]
     },
     "execution_count": 104,
     "metadata": {
      "tags": []
     },
     "output_type": "execute_result"
    }
   ],
   "source": [
    "FileLink(f'{SUBM}subm4.gz') # download file"
   ]
  },
  {
   "cell_type": "markdown",
   "metadata": {
    "colab_type": "text",
    "id": "zpE5v4C3jNSC"
   },
   "source": [
    "## Download data to pc "
   ]
  },
  {
   "cell_type": "code",
   "execution_count": 0,
   "metadata": {
    "colab": {},
    "colab_type": "code",
    "id": "LyGVEg3-rBJ2"
   },
   "outputs": [],
   "source": [
    "from google.colab import files\n",
    "files.download(\"/content/clouderizer/fast.ai/data/sub/subm10.gz\")"
   ]
  }
 ],
 "metadata": {
  "accelerator": "GPU",
  "colab": {
   "collapsed_sections": [
    "koOf_fT1Ek8b",
    "U4qraUZlsXyW",
    "ENgzcUSmsuZ4",
    "-YVM5oj8uDhu",
    "ZxUvWWxzx1dm",
    "1R8tl600x-e8",
    "20-bDejgz7YM",
    "nN4FgKoHqa9c",
    "5NHaPMDJWN2q"
   ],
   "name": "Identify the Animal_colab .ipynb",
   "provenance": [
    {
     "file_id": "1P12nSn4lz9oXWKY69IUsOr2DS-_GQhxr",
     "timestamp": 1541333908330
    },
    {
     "file_id": "1MSszQHoXlB8ij83U8EIL7g2u1QgDKJXh",
     "timestamp": 1530002839966
    }
   ],
   "version": "0.3.2"
  },
  "kernelspec": {
   "display_name": "Python 3",
   "language": "python",
   "name": "python3"
  },
  "language_info": {
   "codemirror_mode": {
    "name": "ipython",
    "version": 3
   },
   "file_extension": ".py",
   "mimetype": "text/x-python",
   "name": "python",
   "nbconvert_exporter": "python",
   "pygments_lexer": "ipython3",
   "version": "3.7.7"
  }
 },
 "nbformat": 4,
 "nbformat_minor": 1
}
